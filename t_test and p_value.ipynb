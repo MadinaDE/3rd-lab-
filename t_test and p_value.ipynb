{
 "cells": [
  {
   "cell_type": "code",
   "execution_count": 9,
   "id": "adb45a70-04ae-4766-a355-097a9051d273",
   "metadata": {},
   "outputs": [
    {
     "name": "stdout",
     "output_type": "stream",
     "text": [
      "t-statistics: 1.2909944487358056\n",
      "p-value: 0.23275973807683983\n",
      "Fail to reject the null hypotesis. There is no significant difference between the means of the two groups.\n"
     ]
    }
   ],
   "source": [
    "import pandas as pd\n",
    "import numpy as np\n",
    "from scipy import stats\n",
    "\n",
    "#sample data\n",
    "data={'Group A':[10,12,15,18,20],\n",
    "      'Group B':[8,10,12,14,16]}\n",
    "\n",
    "#create dataframes\n",
    "df=pd.DataFrame(data)\n",
    "\n",
    "#perform t-test\n",
    "t_stat, p_value = stats.ttest_ind(df['Group A'],\n",
    "                                  df['Group B'])\n",
    "\n",
    "print(\"t-statistics:\", t_stat)\n",
    "print(\"p-value:\", p_value)\n",
    "\n",
    "#Interpret Results\n",
    "alpha = 0.05 # Significance level\n",
    "if p_value < alpha:\n",
    "    print (\"Reject the null hypotesis.There is a significant difference between the means of thee two groups.\")\n",
    "else:\n",
    "    print (\"Fail to reject the null hypotesis. There is no significant difference between the means of the two groups.\")\n",
    "    "
   ]
  },
  {
   "cell_type": "code",
   "execution_count": null,
   "id": "19a98cef-d8d0-4c19-bfb0-8679ddfeefff",
   "metadata": {},
   "outputs": [],
   "source": []
  }
 ],
 "metadata": {
  "kernelspec": {
   "display_name": "Python 3 (ipykernel)",
   "language": "python",
   "name": "python3"
  },
  "language_info": {
   "codemirror_mode": {
    "name": "ipython",
    "version": 3
   },
   "file_extension": ".py",
   "mimetype": "text/x-python",
   "name": "python",
   "nbconvert_exporter": "python",
   "pygments_lexer": "ipython3",
   "version": "3.12.4"
  }
 },
 "nbformat": 4,
 "nbformat_minor": 5
}
